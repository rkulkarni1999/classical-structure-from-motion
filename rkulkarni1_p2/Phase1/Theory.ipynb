{
 "cells": [
  {
   "cell_type": "markdown",
   "metadata": {},
   "source": [
    "# **Feature Matching and Outlier Rejection using RANSAC**\n",
    "\n",
    "- 5 images(800x600) are provided in the of Unity Hall. The Images are already calibrated.\n",
    "- matching.txt file is a file of matching files. matching3.txt contains matching between 3 and (4 and 5). $\\mathcal{I}_3 \\leftrightarrow \\mathcal{I}_4, \\mathcal{I}_3 \\leftrightarrow \\mathcal{I}_5$\n",
    "- \n",
    "\n"
   ]
  },
  {
   "cell_type": "markdown",
   "metadata": {},
   "source": []
  },
  {
   "cell_type": "markdown",
   "metadata": {},
   "source": []
  },
  {
   "cell_type": "markdown",
   "metadata": {},
   "source": []
  },
  {
   "cell_type": "markdown",
   "metadata": {},
   "source": []
  },
  {
   "cell_type": "markdown",
   "metadata": {},
   "source": []
  },
  {
   "cell_type": "markdown",
   "metadata": {},
   "source": []
  },
  {
   "cell_type": "code",
   "execution_count": null,
   "metadata": {},
   "outputs": [],
   "source": []
  }
 ],
 "metadata": {
  "language_info": {
   "name": "python"
  }
 },
 "nbformat": 4,
 "nbformat_minor": 2
}
